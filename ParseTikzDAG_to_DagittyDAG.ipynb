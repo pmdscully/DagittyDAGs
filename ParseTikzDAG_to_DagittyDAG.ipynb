{
  "nbformat": 4,
  "nbformat_minor": 0,
  "metadata": {
    "colab": {
      "provenance": []
    },
    "kernelspec": {
      "name": "python3",
      "display_name": "Python 3"
    },
    "language_info": {
      "name": "python"
    }
  },
  "cells": [
    {
      "cell_type": "markdown",
      "source": [
        "# Parse Tikz Code to Dagitty DAG:"
      ],
      "metadata": {
        "id": "U4UCpWja5Ost"
      }
    },
    {
      "cell_type": "code",
      "source": [
        "import re\n",
        "def parse_nodes_to_DAG(nodes, exposure:list, outcome:list, adjusted:list):\n",
        "    \"\"\"\n",
        "    \\node (v18) at (0.407,-2.84) {# Meals/D};\n",
        "    ->\n",
        "    #-Meals/D [pos=\"0.407,-2.84\"]\n",
        "    \"\"\"\n",
        "    result_text = []\n",
        "    nid_mappings = {}\n",
        "    for i,n in enumerate(nodes):\n",
        "        if len(n) > 0:\n",
        "            node_data = re.findall( r'\\((.+?)\\)', n)\n",
        "            (nid, (posx, posy)) = node_data[0], node_data[1].split(',')\n",
        "            node_text = re.findall( r'\\{(.+?)\\}', n)[0]#.replace(' ','-')\n",
        "            is_e = node_text in exposure\n",
        "            is_o = node_text in outcome\n",
        "            is_a = node_text in adjusted\n",
        "            attr = 'exposure,' if is_e else 'outcome,' if is_o else 'adjusted,' if is_a else ''\n",
        "            posy = f'-{posy}' if '-' not in posy else posy[1:]\n",
        "            nid_mappings[nid] = f'\"{node_text}\"'\n",
        "            result_text += [f'\"{node_text}\" [{attr}pos=\"{posx},{posy}\"]']    #Coach [pos=\"-4.392,-7.906\"]\n",
        "    return result_text, nid_mappings\n",
        "\n",
        "def parse_edges_to_DAG(edges, nid_mappings):\n",
        "    \"\"\"\n",
        "    \\draw [->] (v32) edge (v31);\n",
        "    ->\n",
        "    TeamMotivation -> PreviousInjury\n",
        "    \"\"\"\n",
        "    result_text = []\n",
        "    for i,n in enumerate(edges):\n",
        "        if len(n) > 0:\n",
        "            (n1, n2) = re.findall( r'\\((.+?)\\)', n)\n",
        "            result_text += [f'{nid_mappings[n1]} -> {nid_mappings[n2]}']\n",
        "    return result_text"
      ],
      "metadata": {
        "id": "BTvcPUR05mYg"
      },
      "execution_count": 2,
      "outputs": []
    },
    {
      "cell_type": "code",
      "execution_count": 3,
      "metadata": {
        "id": "Y5bAkuhT4y_O"
      },
      "outputs": [],
      "source": [
        "# % This code uses the tikz package\n",
        "# \\begin{tikzpicture}\n",
        "nodes = \"\"\"\\node (v0) at (-7.00,-8.65) {WarmUpExercises};\n",
        "\\node (v1) at (4.97,-8.61) {Injury};\n",
        "\\node (v2) at (-4.39,7.91) {Coach};\n",
        "\\node (v3) at (2.02,7.91) {Genetics};\n",
        "\\node (v4) at (-7.17,0.950) {TeamMotivation};\n",
        "\\node (v5) at (-3.64,1.24) {PreGameProprioception};\n",
        "\\node (v6) at (3.49,5.10) {ConnectiveTissueDisorder};\n",
        "\\node (v7) at (-4.29,-4.17) {PreviousInjury};\n",
        "\\node (v8) at (-1.16,-2.55) {ContactSport};\n",
        "\\node (v9) at (4.24,-1.86) {TissueWeakness};\n",
        "\\node (v10) at (-1.20,-8.49) {IntraGameProprioception};\n",
        "\\node (v11) at (-1.49,4.53) {FitnessLevel};\n",
        "\\node (v12) at (1.50,1.24) {NeuromuscularFatigue};\n",
        "\"\"\"\n",
        "edges = \"\"\"\\draw [->] (v2) edge (v11);\n",
        "\\draw [->] (v2) edge (v4);\n",
        "\\draw [->] (v3) edge (v11);\n",
        "\\draw [->] (v3) edge (v12);\n",
        "\\draw [->] (v3) edge (v6);\n",
        "\\draw [->] (v4) edge (v7);\n",
        "\\draw [->] (v4) edge (v0);\n",
        "\\draw [->] (v5) edge (v0);\n",
        "\\draw [->] (v6) edge (v9);\n",
        "\\draw [->] (v6) edge (v12);\n",
        "\\draw [->] (v8) edge (v10);\n",
        "\\draw [->] (v8) edge (v7);\n",
        "\\draw [->] (v9) edge (v1);\n",
        "\\draw [->] (v10) edge (v1);\n",
        "\\draw [->] (v11) edge (v5);\n",
        "\\draw [->] (v11) edge (v12);\n",
        "\\draw [->] (v12) edge (v10);\n",
        "\\draw [->] (v12) edge (v1);\n",
        "\\draw [->] (v0) edge (v10);\"\"\"\n",
        "# \\end{tikzpicture}"
      ]
    },
    {
      "cell_type": "code",
      "source": [
        "nodes = nodes.replace('\\node ','').replace('\\n','').split(';')\n",
        "edges = edges.replace('\\draw [->] ','').replace('\\n','').split(';')\n",
        "exposure = ['WarmUpExercises']\n",
        "outcome = ['Injury']\n",
        "adjusted = []"
      ],
      "metadata": {
        "id": "Boo8plv95RlR"
      },
      "execution_count": 4,
      "outputs": []
    },
    {
      "cell_type": "code",
      "source": [
        "result_text, nid_mappings = parse_nodes_to_DAG(nodes, exposure, outcome, adjusted)\n",
        "result_text += parse_edges_to_DAG(edges, nid_mappings)\n",
        "result_text = ['dag {'] + result_text + ['}']\n",
        "\n",
        "for t in result_text:\n",
        "    print(t)"
      ],
      "metadata": {
        "colab": {
          "base_uri": "https://localhost:8080/"
        },
        "id": "I36PlaU05y7h",
        "outputId": "dbe9ed05-3958-42f9-c53a-9fa4a3431b3f"
      },
      "execution_count": 5,
      "outputs": [
        {
          "output_type": "stream",
          "name": "stdout",
          "text": [
            "dag {\n",
            "\"WarmUpExercises\" [exposure,pos=\"-7.00,8.65\"]\n",
            "\"Injury\" [outcome,pos=\"4.97,8.61\"]\n",
            "\"Coach\" [pos=\"-4.39,-7.91\"]\n",
            "\"Genetics\" [pos=\"2.02,-7.91\"]\n",
            "\"TeamMotivation\" [pos=\"-7.17,-0.950\"]\n",
            "\"PreGameProprioception\" [pos=\"-3.64,-1.24\"]\n",
            "\"ConnectiveTissueDisorder\" [pos=\"3.49,-5.10\"]\n",
            "\"PreviousInjury\" [pos=\"-4.29,4.17\"]\n",
            "\"ContactSport\" [pos=\"-1.16,2.55\"]\n",
            "\"TissueWeakness\" [pos=\"4.24,1.86\"]\n",
            "\"IntraGameProprioception\" [pos=\"-1.20,8.49\"]\n",
            "\"FitnessLevel\" [pos=\"-1.49,-4.53\"]\n",
            "\"NeuromuscularFatigue\" [pos=\"1.50,-1.24\"]\n",
            "\"Coach\" -> \"FitnessLevel\"\n",
            "\"Coach\" -> \"TeamMotivation\"\n",
            "\"Genetics\" -> \"FitnessLevel\"\n",
            "\"Genetics\" -> \"NeuromuscularFatigue\"\n",
            "\"Genetics\" -> \"ConnectiveTissueDisorder\"\n",
            "\"TeamMotivation\" -> \"PreviousInjury\"\n",
            "\"TeamMotivation\" -> \"WarmUpExercises\"\n",
            "\"PreGameProprioception\" -> \"WarmUpExercises\"\n",
            "\"ConnectiveTissueDisorder\" -> \"TissueWeakness\"\n",
            "\"ConnectiveTissueDisorder\" -> \"NeuromuscularFatigue\"\n",
            "\"ContactSport\" -> \"IntraGameProprioception\"\n",
            "\"ContactSport\" -> \"PreviousInjury\"\n",
            "\"TissueWeakness\" -> \"Injury\"\n",
            "\"IntraGameProprioception\" -> \"Injury\"\n",
            "\"FitnessLevel\" -> \"PreGameProprioception\"\n",
            "\"FitnessLevel\" -> \"NeuromuscularFatigue\"\n",
            "\"NeuromuscularFatigue\" -> \"IntraGameProprioception\"\n",
            "\"NeuromuscularFatigue\" -> \"Injury\"\n",
            "\"WarmUpExercises\" -> \"IntraGameProprioception\"\n",
            "}\n"
          ]
        }
      ]
    }
  ]
}